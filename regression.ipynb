{
  "cells": [
    {
      "cell_type": "markdown",
      "metadata": {
        "id": "view-in-github",
        "colab_type": "text"
      },
      "source": [
        "<a href=\"https://colab.research.google.com/github/ZachPetroff/Regression/blob/main/regression.ipynb\" target=\"_parent\"><img src=\"https://colab.research.google.com/assets/colab-badge.svg\" alt=\"Open In Colab\"/></a>"
      ]
    },
    {
      "cell_type": "code",
      "execution_count": null,
      "id": "dd62b07e",
      "metadata": {
        "_cell_guid": "b1076dfc-b9ad-4769-8c92-a6c4dae69d19",
        "_uuid": "8f2839f25d086af736a60e9eeb907d3b93b6e0e5",
        "execution": {
          "iopub.execute_input": "2021-10-29T05:15:01.078432Z",
          "iopub.status.busy": "2021-10-29T05:15:01.077780Z",
          "iopub.status.idle": "2021-10-29T05:15:01.086956Z",
          "shell.execute_reply": "2021-10-29T05:15:01.086000Z",
          "shell.execute_reply.started": "2021-10-28T18:16:20.155486Z"
        },
        "papermill": {
          "duration": 0.043888,
          "end_time": "2021-10-29T05:15:01.087224",
          "exception": false,
          "start_time": "2021-10-29T05:15:01.043336",
          "status": "completed"
        },
        "tags": [],
        "id": "dd62b07e"
      },
      "outputs": [],
      "source": [
        "import pandas as pd\n",
        "import numpy as np\n",
        "import zipfile"
      ]
    },
    {
      "cell_type": "code",
      "execution_count": null,
      "id": "5a533875",
      "metadata": {
        "execution": {
          "iopub.execute_input": "2021-10-29T05:15:01.140890Z",
          "iopub.status.busy": "2021-10-29T05:15:01.140228Z",
          "iopub.status.idle": "2021-10-29T05:15:12.346373Z",
          "shell.execute_reply": "2021-10-29T05:15:12.346861Z",
          "shell.execute_reply.started": "2021-10-27T08:20:01.679908Z"
        },
        "papermill": {
          "duration": 11.236075,
          "end_time": "2021-10-29T05:15:12.347041",
          "exception": false,
          "start_time": "2021-10-29T05:15:01.110966",
          "status": "completed"
        },
        "tags": [],
        "id": "5a533875",
        "outputId": "26827813-59e7-4dd0-ba6b-a5b752f3fcf4"
      },
      "outputs": [
        {
          "data": {
            "text/html": [
              "<div>\n",
              "<style scoped>\n",
              "    .dataframe tbody tr th:only-of-type {\n",
              "        vertical-align: middle;\n",
              "    }\n",
              "\n",
              "    .dataframe tbody tr th {\n",
              "        vertical-align: top;\n",
              "    }\n",
              "\n",
              "    .dataframe thead th {\n",
              "        text-align: right;\n",
              "    }\n",
              "</style>\n",
              "<table border=\"1\" class=\"dataframe\">\n",
              "  <thead>\n",
              "    <tr style=\"text-align: right;\">\n",
              "      <th></th>\n",
              "      <th>id</th>\n",
              "      <th>vendor_id</th>\n",
              "      <th>pickup_datetime</th>\n",
              "      <th>dropoff_datetime</th>\n",
              "      <th>passenger_count</th>\n",
              "      <th>pickup_longitude</th>\n",
              "      <th>pickup_latitude</th>\n",
              "      <th>dropoff_longitude</th>\n",
              "      <th>dropoff_latitude</th>\n",
              "      <th>store_and_fwd_flag</th>\n",
              "      <th>trip_duration</th>\n",
              "    </tr>\n",
              "  </thead>\n",
              "  <tbody>\n",
              "    <tr>\n",
              "      <th>0</th>\n",
              "      <td>id2875421</td>\n",
              "      <td>2</td>\n",
              "      <td>2016-03-14 17:24:55</td>\n",
              "      <td>2016-03-14 17:32:30</td>\n",
              "      <td>1</td>\n",
              "      <td>-73.982155</td>\n",
              "      <td>40.767937</td>\n",
              "      <td>-73.964630</td>\n",
              "      <td>40.765602</td>\n",
              "      <td>N</td>\n",
              "      <td>455</td>\n",
              "    </tr>\n",
              "    <tr>\n",
              "      <th>1</th>\n",
              "      <td>id2377394</td>\n",
              "      <td>1</td>\n",
              "      <td>2016-06-12 00:43:35</td>\n",
              "      <td>2016-06-12 00:54:38</td>\n",
              "      <td>1</td>\n",
              "      <td>-73.980415</td>\n",
              "      <td>40.738564</td>\n",
              "      <td>-73.999481</td>\n",
              "      <td>40.731152</td>\n",
              "      <td>N</td>\n",
              "      <td>663</td>\n",
              "    </tr>\n",
              "    <tr>\n",
              "      <th>2</th>\n",
              "      <td>id3858529</td>\n",
              "      <td>2</td>\n",
              "      <td>2016-01-19 11:35:24</td>\n",
              "      <td>2016-01-19 12:10:48</td>\n",
              "      <td>1</td>\n",
              "      <td>-73.979027</td>\n",
              "      <td>40.763939</td>\n",
              "      <td>-74.005333</td>\n",
              "      <td>40.710087</td>\n",
              "      <td>N</td>\n",
              "      <td>2124</td>\n",
              "    </tr>\n",
              "    <tr>\n",
              "      <th>3</th>\n",
              "      <td>id3504673</td>\n",
              "      <td>2</td>\n",
              "      <td>2016-04-06 19:32:31</td>\n",
              "      <td>2016-04-06 19:39:40</td>\n",
              "      <td>1</td>\n",
              "      <td>-74.010040</td>\n",
              "      <td>40.719971</td>\n",
              "      <td>-74.012268</td>\n",
              "      <td>40.706718</td>\n",
              "      <td>N</td>\n",
              "      <td>429</td>\n",
              "    </tr>\n",
              "    <tr>\n",
              "      <th>4</th>\n",
              "      <td>id2181028</td>\n",
              "      <td>2</td>\n",
              "      <td>2016-03-26 13:30:55</td>\n",
              "      <td>2016-03-26 13:38:10</td>\n",
              "      <td>1</td>\n",
              "      <td>-73.973053</td>\n",
              "      <td>40.793209</td>\n",
              "      <td>-73.972923</td>\n",
              "      <td>40.782520</td>\n",
              "      <td>N</td>\n",
              "      <td>435</td>\n",
              "    </tr>\n",
              "  </tbody>\n",
              "</table>\n",
              "</div>"
            ],
            "text/plain": [
              "          id  vendor_id      pickup_datetime     dropoff_datetime  \\\n",
              "0  id2875421          2  2016-03-14 17:24:55  2016-03-14 17:32:30   \n",
              "1  id2377394          1  2016-06-12 00:43:35  2016-06-12 00:54:38   \n",
              "2  id3858529          2  2016-01-19 11:35:24  2016-01-19 12:10:48   \n",
              "3  id3504673          2  2016-04-06 19:32:31  2016-04-06 19:39:40   \n",
              "4  id2181028          2  2016-03-26 13:30:55  2016-03-26 13:38:10   \n",
              "\n",
              "   passenger_count  pickup_longitude  pickup_latitude  dropoff_longitude  \\\n",
              "0                1        -73.982155        40.767937         -73.964630   \n",
              "1                1        -73.980415        40.738564         -73.999481   \n",
              "2                1        -73.979027        40.763939         -74.005333   \n",
              "3                1        -74.010040        40.719971         -74.012268   \n",
              "4                1        -73.973053        40.793209         -73.972923   \n",
              "\n",
              "   dropoff_latitude store_and_fwd_flag  trip_duration  \n",
              "0         40.765602                  N            455  \n",
              "1         40.731152                  N            663  \n",
              "2         40.710087                  N           2124  \n",
              "3         40.706718                  N            429  \n",
              "4         40.782520                  N            435  "
            ]
          },
          "execution_count": 2,
          "metadata": {},
          "output_type": "execute_result"
        }
      ],
      "source": [
        "train_df = pd.read_csv(\"../input/nyc-taxi-trip-duration/train.zip\", compression=\"zip\")\n",
        "test_df = pd.read_csv(\"../input/nyc-taxi-trip-duration/test.zip\", compression=\"zip\")\n",
        "train_df.head()"
      ]
    },
    {
      "cell_type": "code",
      "execution_count": null,
      "id": "86a7dcd9",
      "metadata": {
        "execution": {
          "iopub.execute_input": "2021-10-29T05:15:12.398613Z",
          "iopub.status.busy": "2021-10-29T05:15:12.397582Z",
          "iopub.status.idle": "2021-10-29T05:15:12.806151Z",
          "shell.execute_reply": "2021-10-29T05:15:12.806670Z",
          "shell.execute_reply.started": "2021-10-27T08:20:12.726401Z"
        },
        "papermill": {
          "duration": 0.436347,
          "end_time": "2021-10-29T05:15:12.806846",
          "exception": false,
          "start_time": "2021-10-29T05:15:12.370499",
          "status": "completed"
        },
        "tags": [],
        "id": "86a7dcd9",
        "outputId": "dd382612-e7ca-4bc5-e7de-3931a9ae96b0"
      },
      "outputs": [
        {
          "data": {
            "text/html": [
              "<div>\n",
              "<style scoped>\n",
              "    .dataframe tbody tr th:only-of-type {\n",
              "        vertical-align: middle;\n",
              "    }\n",
              "\n",
              "    .dataframe tbody tr th {\n",
              "        vertical-align: top;\n",
              "    }\n",
              "\n",
              "    .dataframe thead th {\n",
              "        text-align: right;\n",
              "    }\n",
              "</style>\n",
              "<table border=\"1\" class=\"dataframe\">\n",
              "  <thead>\n",
              "    <tr style=\"text-align: right;\">\n",
              "      <th></th>\n",
              "      <th>vendor_id</th>\n",
              "      <th>passenger_count</th>\n",
              "      <th>pickup_longitude</th>\n",
              "      <th>pickup_latitude</th>\n",
              "      <th>dropoff_longitude</th>\n",
              "      <th>dropoff_latitude</th>\n",
              "      <th>trip_duration</th>\n",
              "    </tr>\n",
              "  </thead>\n",
              "  <tbody>\n",
              "    <tr>\n",
              "      <th>count</th>\n",
              "      <td>1.458644e+06</td>\n",
              "      <td>1.458644e+06</td>\n",
              "      <td>1.458644e+06</td>\n",
              "      <td>1.458644e+06</td>\n",
              "      <td>1.458644e+06</td>\n",
              "      <td>1.458644e+06</td>\n",
              "      <td>1.458644e+06</td>\n",
              "    </tr>\n",
              "    <tr>\n",
              "      <th>mean</th>\n",
              "      <td>1.534950e+00</td>\n",
              "      <td>1.664530e+00</td>\n",
              "      <td>-7.397349e+01</td>\n",
              "      <td>4.075092e+01</td>\n",
              "      <td>-7.397342e+01</td>\n",
              "      <td>4.075180e+01</td>\n",
              "      <td>9.594923e+02</td>\n",
              "    </tr>\n",
              "    <tr>\n",
              "      <th>std</th>\n",
              "      <td>4.987772e-01</td>\n",
              "      <td>1.314242e+00</td>\n",
              "      <td>7.090186e-02</td>\n",
              "      <td>3.288119e-02</td>\n",
              "      <td>7.064327e-02</td>\n",
              "      <td>3.589056e-02</td>\n",
              "      <td>5.237432e+03</td>\n",
              "    </tr>\n",
              "    <tr>\n",
              "      <th>min</th>\n",
              "      <td>1.000000e+00</td>\n",
              "      <td>0.000000e+00</td>\n",
              "      <td>-1.219333e+02</td>\n",
              "      <td>3.435970e+01</td>\n",
              "      <td>-1.219333e+02</td>\n",
              "      <td>3.218114e+01</td>\n",
              "      <td>1.000000e+00</td>\n",
              "    </tr>\n",
              "    <tr>\n",
              "      <th>25%</th>\n",
              "      <td>1.000000e+00</td>\n",
              "      <td>1.000000e+00</td>\n",
              "      <td>-7.399187e+01</td>\n",
              "      <td>4.073735e+01</td>\n",
              "      <td>-7.399133e+01</td>\n",
              "      <td>4.073588e+01</td>\n",
              "      <td>3.970000e+02</td>\n",
              "    </tr>\n",
              "    <tr>\n",
              "      <th>50%</th>\n",
              "      <td>2.000000e+00</td>\n",
              "      <td>1.000000e+00</td>\n",
              "      <td>-7.398174e+01</td>\n",
              "      <td>4.075410e+01</td>\n",
              "      <td>-7.397975e+01</td>\n",
              "      <td>4.075452e+01</td>\n",
              "      <td>6.620000e+02</td>\n",
              "    </tr>\n",
              "    <tr>\n",
              "      <th>75%</th>\n",
              "      <td>2.000000e+00</td>\n",
              "      <td>2.000000e+00</td>\n",
              "      <td>-7.396733e+01</td>\n",
              "      <td>4.076836e+01</td>\n",
              "      <td>-7.396301e+01</td>\n",
              "      <td>4.076981e+01</td>\n",
              "      <td>1.075000e+03</td>\n",
              "    </tr>\n",
              "    <tr>\n",
              "      <th>max</th>\n",
              "      <td>2.000000e+00</td>\n",
              "      <td>9.000000e+00</td>\n",
              "      <td>-6.133553e+01</td>\n",
              "      <td>5.188108e+01</td>\n",
              "      <td>-6.133553e+01</td>\n",
              "      <td>4.392103e+01</td>\n",
              "      <td>3.526282e+06</td>\n",
              "    </tr>\n",
              "  </tbody>\n",
              "</table>\n",
              "</div>"
            ],
            "text/plain": [
              "          vendor_id  passenger_count  pickup_longitude  pickup_latitude  \\\n",
              "count  1.458644e+06     1.458644e+06      1.458644e+06     1.458644e+06   \n",
              "mean   1.534950e+00     1.664530e+00     -7.397349e+01     4.075092e+01   \n",
              "std    4.987772e-01     1.314242e+00      7.090186e-02     3.288119e-02   \n",
              "min    1.000000e+00     0.000000e+00     -1.219333e+02     3.435970e+01   \n",
              "25%    1.000000e+00     1.000000e+00     -7.399187e+01     4.073735e+01   \n",
              "50%    2.000000e+00     1.000000e+00     -7.398174e+01     4.075410e+01   \n",
              "75%    2.000000e+00     2.000000e+00     -7.396733e+01     4.076836e+01   \n",
              "max    2.000000e+00     9.000000e+00     -6.133553e+01     5.188108e+01   \n",
              "\n",
              "       dropoff_longitude  dropoff_latitude  trip_duration  \n",
              "count       1.458644e+06      1.458644e+06   1.458644e+06  \n",
              "mean       -7.397342e+01      4.075180e+01   9.594923e+02  \n",
              "std         7.064327e-02      3.589056e-02   5.237432e+03  \n",
              "min        -1.219333e+02      3.218114e+01   1.000000e+00  \n",
              "25%        -7.399133e+01      4.073588e+01   3.970000e+02  \n",
              "50%        -7.397975e+01      4.075452e+01   6.620000e+02  \n",
              "75%        -7.396301e+01      4.076981e+01   1.075000e+03  \n",
              "max        -6.133553e+01      4.392103e+01   3.526282e+06  "
            ]
          },
          "execution_count": 3,
          "metadata": {},
          "output_type": "execute_result"
        }
      ],
      "source": [
        "train_df.describe()"
      ]
    },
    {
      "cell_type": "code",
      "execution_count": null,
      "id": "c94b9ce4",
      "metadata": {
        "execution": {
          "iopub.execute_input": "2021-10-29T05:15:12.861027Z",
          "iopub.status.busy": "2021-10-29T05:15:12.860299Z",
          "iopub.status.idle": "2021-10-29T05:15:12.979204Z",
          "shell.execute_reply": "2021-10-29T05:15:12.979755Z",
          "shell.execute_reply.started": "2021-10-27T08:20:13.131547Z"
        },
        "papermill": {
          "duration": 0.148117,
          "end_time": "2021-10-29T05:15:12.979934",
          "exception": false,
          "start_time": "2021-10-29T05:15:12.831817",
          "status": "completed"
        },
        "tags": [],
        "id": "c94b9ce4"
      },
      "outputs": [],
      "source": [
        "test_df = test_df.drop([\"id\"], axis=1)\n",
        "train_df = train_df.drop([\"id\", \"dropoff_datetime\"], axis=1) # dropping drop off time, because having the pickup and dropoff times would be cheating"
      ]
    },
    {
      "cell_type": "code",
      "execution_count": null,
      "id": "a54fe163",
      "metadata": {
        "execution": {
          "iopub.execute_input": "2021-10-29T05:15:13.034577Z",
          "iopub.status.busy": "2021-10-29T05:15:13.033904Z",
          "iopub.status.idle": "2021-10-29T05:15:13.380778Z",
          "shell.execute_reply": "2021-10-29T05:15:13.380213Z",
          "shell.execute_reply.started": "2021-10-27T08:20:13.23234Z"
        },
        "papermill": {
          "duration": 0.375637,
          "end_time": "2021-10-29T05:15:13.380916",
          "exception": false,
          "start_time": "2021-10-29T05:15:13.005279",
          "status": "completed"
        },
        "tags": [],
        "id": "a54fe163",
        "outputId": "10336fac-334d-4137-a6b1-bffe7c61a158"
      },
      "outputs": [
        {
          "name": "stdout",
          "output_type": "stream",
          "text": [
            "vendor_id             0\n",
            "pickup_datetime       0\n",
            "passenger_count       0\n",
            "pickup_longitude      0\n",
            "pickup_latitude       0\n",
            "dropoff_longitude     0\n",
            "dropoff_latitude      0\n",
            "store_and_fwd_flag    0\n",
            "trip_duration         0\n",
            "dtype: int64\n"
          ]
        }
      ],
      "source": [
        "print(train_df.isna().sum())"
      ]
    },
    {
      "cell_type": "code",
      "execution_count": null,
      "id": "5948720a",
      "metadata": {
        "execution": {
          "iopub.execute_input": "2021-10-29T05:15:13.435051Z",
          "iopub.status.busy": "2021-10-29T05:15:13.433973Z",
          "iopub.status.idle": "2021-10-29T05:15:13.904827Z",
          "shell.execute_reply": "2021-10-29T05:15:13.904181Z",
          "shell.execute_reply.started": "2021-10-27T08:20:13.576289Z"
        },
        "papermill": {
          "duration": 0.498714,
          "end_time": "2021-10-29T05:15:13.904966",
          "exception": false,
          "start_time": "2021-10-29T05:15:13.406252",
          "status": "completed"
        },
        "tags": [],
        "id": "5948720a"
      },
      "outputs": [],
      "source": [
        "# get dummy variables for categorical data, vendor id and store and fwd flag\n",
        "\n",
        "flag_dummies = pd.get_dummies(train_df[\"store_and_fwd_flag\"])\n",
        "vendor_dummies = pd.get_dummies(train_df[\"vendor_id\"])\n",
        "\n",
        "train_df = train_df.drop([\"vendor_id\", \"store_and_fwd_flag\"], axis=1)\n",
        "train_df = pd.concat([train_df, flag_dummies[\"N\"]], axis=1)\n",
        "train_df = pd.concat([train_df, vendor_dummies[2]], axis=1)\n",
        "\n",
        "test_flag_dummies = pd.get_dummies(test_df[\"store_and_fwd_flag\"])\n",
        "test_vendor_dummies = pd.get_dummies(test_df[\"vendor_id\"])\n",
        "\n",
        "test_df = test_df.drop([\"vendor_id\", \"store_and_fwd_flag\"], axis=1)\n",
        "test_df = pd.concat([test_df, test_flag_dummies[\"N\"]], axis=1)\n",
        "test_df = pd.concat([test_df, test_vendor_dummies[2]], axis=1)"
      ]
    },
    {
      "cell_type": "code",
      "execution_count": null,
      "id": "e9d5d6b6",
      "metadata": {
        "execution": {
          "iopub.execute_input": "2021-10-29T05:15:13.975421Z",
          "iopub.status.busy": "2021-10-29T05:15:13.974182Z",
          "iopub.status.idle": "2021-10-29T05:15:45.038541Z",
          "shell.execute_reply": "2021-10-29T05:15:45.037774Z",
          "shell.execute_reply.started": "2021-10-27T08:20:14.037958Z"
        },
        "papermill": {
          "duration": 31.108926,
          "end_time": "2021-10-29T05:15:45.038703",
          "exception": false,
          "start_time": "2021-10-29T05:15:13.929777",
          "status": "completed"
        },
        "tags": [],
        "id": "e9d5d6b6"
      },
      "outputs": [],
      "source": [
        "morning = []\n",
        "midday = []\n",
        "night = []\n",
        "\n",
        "summer = []\n",
        "winter = []\n",
        "spring = [] \n",
        "fall = []\n",
        "\n",
        "morning_test = []\n",
        "midday_test = []\n",
        "night_test = []\n",
        "\n",
        "summer_test = []\n",
        "winter_test = []\n",
        "spring_test = []\n",
        "fall_test = []\n",
        "\n",
        "dates = train_df[\"pickup_datetime\"]\n",
        "test_dates = test_df[\"pickup_datetime\"]\n",
        "\n",
        "for i in range(len(dates)):\n",
        "    date = dates.iloc[i]\n",
        "    if i < len(test_dates):\n",
        "        test_date = test_dates.iloc[i]\n",
        "    \n",
        "    month = date[5:7]\n",
        "    hour = date[11:13]\n",
        "    \n",
        "    if i < len(test_dates):\n",
        "        test_month = test_date[5:7]\n",
        "        test_hour = test_date[11:13]\n",
        "    \n",
        "    month = int(month)\n",
        "    hour = int(hour)\n",
        "    \n",
        "    if i < len(test_dates):\n",
        "        test_month = int(test_month)\n",
        "        test_hour = int(test_hour)\n",
        "\n",
        "    if month == 12 or month <= 2:\n",
        "        winter.append(1)\n",
        "        summer.append(0)\n",
        "        spring.append(0)\n",
        "        fall.append(0)\n",
        "        if i < len(test_dates):\n",
        "            winter_test.append(1)\n",
        "            summer_test.append(0)\n",
        "            spring_test.append(0)\n",
        "            fall_test.append(0)\n",
        "    if 2 < month and month <= 5:\n",
        "        spring.append(1)\n",
        "        summer.append(0)\n",
        "        fall.append(0)\n",
        "        winter.append(0)\n",
        "        if i < len(test_dates):\n",
        "            spring_test.append(1)\n",
        "            summer_test.append(0)\n",
        "            fall_test.append(0)\n",
        "            winter_test.append(0)\n",
        "    if 5 < month and month <= 8:\n",
        "        summer.append(1)\n",
        "        spring.append(0)\n",
        "        fall.append(0)\n",
        "        winter.append(0)\n",
        "        if i < len(test_dates):\n",
        "            summer_test.append(1)\n",
        "            spring_test.append(0)\n",
        "            fall_test.append(0)\n",
        "            winter_test.append(0)\n",
        "    if 8 < month and month <= 11:\n",
        "        fall.append(1)\n",
        "        summer.append(0)\n",
        "        spring.append(0)\n",
        "        winter.append(0)\n",
        "        if i < len(test_dates):\n",
        "            fall_test.append(1)\n",
        "            summer_test.append(0)\n",
        "            spring_test.append(0)\n",
        "            winter_test.append(0)\n",
        "    if 4 <= hour and hour < 12:\n",
        "        morning.append(1)\n",
        "        midday.append(0)\n",
        "        night.append(0)\n",
        "        if i < len(test_dates):\n",
        "            morning_test.append(1)\n",
        "            midday_test.append(0)\n",
        "            night_test.append(0)\n",
        "    if 12 <= hour and hour < 20:\n",
        "        midday.append(1)\n",
        "        morning.append(0)\n",
        "        night.append(0)\n",
        "        if i < len(test_dates):\n",
        "            midday_test.append(1)\n",
        "            morning_test.append(0)\n",
        "            night_test.append(0)\n",
        "    if hour < 4 or hour >= 20:\n",
        "        night.append(1)\n",
        "        morning.append(0)\n",
        "        midday.append(0)\n",
        "        if i < len(test_dates):\n",
        "            night_test.append(1)\n",
        "            morning_test.append(0)\n",
        "            midday_test.append(0)"
      ]
    },
    {
      "cell_type": "code",
      "execution_count": null,
      "id": "97bc3961",
      "metadata": {
        "execution": {
          "iopub.execute_input": "2021-10-29T05:15:45.220019Z",
          "iopub.status.busy": "2021-10-29T05:15:45.101329Z",
          "iopub.status.idle": "2021-10-29T05:15:51.646456Z",
          "shell.execute_reply": "2021-10-29T05:15:51.645852Z",
          "shell.execute_reply.started": "2021-10-27T08:20:44.483531Z"
        },
        "papermill": {
          "duration": 6.581997,
          "end_time": "2021-10-29T05:15:51.646614",
          "exception": false,
          "start_time": "2021-10-29T05:15:45.064617",
          "status": "completed"
        },
        "tags": [],
        "id": "97bc3961"
      },
      "outputs": [],
      "source": [
        "train_df.insert(1, \"morning\", morning)\n",
        "train_df.insert(1, \"midday\", midday)\n",
        "train_df.insert(1, \"night\", night)\n",
        "train_df.insert(1, \"summer\", summer)\n",
        "train_df.insert(1, \"winter\", winter)\n",
        "train_df.insert(1, \"spring\", spring)\n",
        "train_df.insert(1, \"fall\", fall)\n",
        "\n",
        "test_df.insert(1, \"morning\", morning_test)\n",
        "test_df.insert(1, \"midday\", midday_test)\n",
        "test_df.insert(1, \"night\", night_test)\n",
        "test_df.insert(1, \"summer\", summer_test)\n",
        "test_df.insert(1, \"winter\", winter_test)\n",
        "test_df.insert(1, \"spring\", spring_test)\n",
        "test_df.insert(1, \"fall\", fall_test)"
      ]
    },
    {
      "cell_type": "code",
      "execution_count": null,
      "id": "1a16a7bf",
      "metadata": {
        "execution": {
          "iopub.execute_input": "2021-10-29T05:15:51.704422Z",
          "iopub.status.busy": "2021-10-29T05:15:51.703309Z",
          "iopub.status.idle": "2021-10-29T05:15:51.897691Z",
          "shell.execute_reply": "2021-10-29T05:15:51.898211Z",
          "shell.execute_reply.started": "2021-10-27T08:20:50.938479Z"
        },
        "papermill": {
          "duration": 0.226249,
          "end_time": "2021-10-29T05:15:51.898401",
          "exception": false,
          "start_time": "2021-10-29T05:15:51.672152",
          "status": "completed"
        },
        "tags": [],
        "id": "1a16a7bf"
      },
      "outputs": [],
      "source": [
        "train_df = train_df.drop([\"pickup_datetime\"], axis=1)\n",
        "test_df = test_df.drop([\"pickup_datetime\"], axis=1)"
      ]
    },
    {
      "cell_type": "code",
      "execution_count": null,
      "id": "e0c8e0de",
      "metadata": {
        "execution": {
          "iopub.execute_input": "2021-10-29T05:15:51.995797Z",
          "iopub.status.busy": "2021-10-29T05:15:51.995043Z",
          "iopub.status.idle": "2021-10-29T05:15:52.000711Z",
          "shell.execute_reply": "2021-10-29T05:15:52.000130Z",
          "shell.execute_reply.started": "2021-10-27T08:20:51.146799Z"
        },
        "papermill": {
          "duration": 0.077268,
          "end_time": "2021-10-29T05:15:52.000852",
          "exception": false,
          "start_time": "2021-10-29T05:15:51.923584",
          "status": "completed"
        },
        "tags": [],
        "id": "e0c8e0de"
      },
      "outputs": [],
      "source": [
        "X = train_df.drop([\"trip_duration\"], axis=1)\n",
        "y = train_df[\"trip_duration\"]"
      ]
    },
    {
      "cell_type": "code",
      "execution_count": null,
      "id": "78f0c351",
      "metadata": {
        "execution": {
          "iopub.execute_input": "2021-10-29T05:15:52.057042Z",
          "iopub.status.busy": "2021-10-29T05:15:52.056389Z",
          "iopub.status.idle": "2021-10-29T05:21:04.110752Z",
          "shell.execute_reply": "2021-10-29T05:21:04.111311Z",
          "shell.execute_reply.started": "2021-10-27T08:20:51.209282Z"
        },
        "papermill": {
          "duration": 312.08604,
          "end_time": "2021-10-29T05:21:04.111485",
          "exception": false,
          "start_time": "2021-10-29T05:15:52.025445",
          "status": "completed"
        },
        "tags": [],
        "id": "78f0c351",
        "outputId": "fe926e0f-8161-49ee-fdd4-b1578cf53a75"
      },
      "outputs": [
        {
          "data": {
            "text/plain": [
              "Pipeline(steps=[('scaler', StandardScaler()),\n",
              "                ('random forest',\n",
              "                 RandomForestRegressor(max_depth=4, random_state=0))])"
            ]
          },
          "execution_count": 11,
          "metadata": {},
          "output_type": "execute_result"
        }
      ],
      "source": [
        "from sklearn.ensemble import RandomForestRegressor\n",
        "from sklearn.pipeline import Pipeline\n",
        "from sklearn.preprocessing import StandardScaler\n",
        "\n",
        "regr = RandomForestRegressor(max_depth=4, random_state=0)\n",
        "pipe = Pipeline([('scaler', StandardScaler()), ('random forest', regr)])\n",
        "\n",
        "pipe.fit(X, y)"
      ]
    },
    {
      "cell_type": "code",
      "execution_count": null,
      "id": "c3776c70",
      "metadata": {
        "execution": {
          "iopub.execute_input": "2021-10-29T05:21:04.166973Z",
          "iopub.status.busy": "2021-10-29T05:21:04.166349Z",
          "iopub.status.idle": "2021-10-29T05:21:04.177663Z",
          "shell.execute_reply": "2021-10-29T05:21:04.178249Z",
          "shell.execute_reply.started": "2021-10-27T08:25:59.062726Z"
        },
        "papermill": {
          "duration": 0.040607,
          "end_time": "2021-10-29T05:21:04.178432",
          "exception": false,
          "start_time": "2021-10-29T05:21:04.137825",
          "status": "completed"
        },
        "tags": [],
        "id": "c3776c70"
      },
      "outputs": [],
      "source": [
        "importances = regr.feature_importances_"
      ]
    },
    {
      "cell_type": "code",
      "execution_count": null,
      "id": "0e29ec6f",
      "metadata": {
        "execution": {
          "iopub.execute_input": "2021-10-29T05:21:04.233911Z",
          "iopub.status.busy": "2021-10-29T05:21:04.233193Z",
          "iopub.status.idle": "2021-10-29T05:21:04.235105Z",
          "shell.execute_reply": "2021-10-29T05:21:04.235634Z",
          "shell.execute_reply.started": "2021-10-27T08:25:59.079993Z"
        },
        "papermill": {
          "duration": 0.032821,
          "end_time": "2021-10-29T05:21:04.235795",
          "exception": false,
          "start_time": "2021-10-29T05:21:04.202974",
          "status": "completed"
        },
        "tags": [],
        "id": "0e29ec6f"
      },
      "outputs": [],
      "source": [
        "feature_names = X.columns\n",
        "imp_dict = {}\n",
        "for i in range(len(feature_names)):\n",
        "    imp_dict[feature_names[i]] = importances[i]"
      ]
    },
    {
      "cell_type": "code",
      "execution_count": null,
      "id": "c5dbf301",
      "metadata": {
        "execution": {
          "iopub.execute_input": "2021-10-29T05:21:04.288456Z",
          "iopub.status.busy": "2021-10-29T05:21:04.287753Z",
          "iopub.status.idle": "2021-10-29T05:21:04.294778Z",
          "shell.execute_reply": "2021-10-29T05:21:04.294235Z",
          "shell.execute_reply.started": "2021-10-27T08:25:59.09501Z"
        },
        "papermill": {
          "duration": 0.034731,
          "end_time": "2021-10-29T05:21:04.294918",
          "exception": false,
          "start_time": "2021-10-29T05:21:04.260187",
          "status": "completed"
        },
        "tags": [],
        "id": "c5dbf301",
        "outputId": "8aa8aa01-051b-4838-8da8-4c5a1ef37395"
      },
      "outputs": [
        {
          "data": {
            "text/plain": [
              "{'fall': 0.0,\n",
              " 'morning': 0.0,\n",
              " 'N': 0.0,\n",
              " 'winter': 3.7060944620407174e-11,\n",
              " 'spring': 0.00026031051370101416,\n",
              " 'summer': 0.00037131485711386586,\n",
              " 'midday': 0.001812225064189105,\n",
              " 'passenger_count': 0.0075470198169940725,\n",
              " 'night': 0.0121195757628792,\n",
              " 2: 0.030108462944862066,\n",
              " 'dropoff_latitude': 0.0760748463493562,\n",
              " 'pickup_latitude': 0.1764723024012573,\n",
              " 'pickup_longitude': 0.31241017416846645,\n",
              " 'dropoff_longitude': 0.3828237680841197}"
            ]
          },
          "execution_count": 14,
          "metadata": {},
          "output_type": "execute_result"
        }
      ],
      "source": [
        "dict(sorted(imp_dict.items(), key=lambda item: item[1]))"
      ]
    },
    {
      "cell_type": "code",
      "execution_count": null,
      "id": "2fed78e0",
      "metadata": {
        "execution": {
          "iopub.execute_input": "2021-10-29T05:21:04.350607Z",
          "iopub.status.busy": "2021-10-29T05:21:04.349906Z",
          "iopub.status.idle": "2021-10-29T05:21:04.404753Z",
          "shell.execute_reply": "2021-10-29T05:21:04.405308Z",
          "shell.execute_reply.started": "2021-10-27T08:25:59.113145Z"
        },
        "papermill": {
          "duration": 0.084279,
          "end_time": "2021-10-29T05:21:04.405482",
          "exception": false,
          "start_time": "2021-10-29T05:21:04.321203",
          "status": "completed"
        },
        "tags": [],
        "id": "2fed78e0"
      },
      "outputs": [],
      "source": [
        "# dropping features of little or no importance\n",
        "X = X.drop(['fall', 'morning', 'N', 'winter'], axis=1)\n",
        "test_df = test_df.drop(['fall', 'morning', 'N', 'winter'], axis=1)"
      ]
    },
    {
      "cell_type": "code",
      "execution_count": null,
      "id": "97543d92",
      "metadata": {
        "execution": {
          "iopub.execute_input": "2021-10-29T05:21:04.468568Z",
          "iopub.status.busy": "2021-10-29T05:21:04.467864Z",
          "iopub.status.idle": "2021-10-29T05:21:04.471963Z",
          "shell.execute_reply": "2021-10-29T05:21:04.471478Z",
          "shell.execute_reply.started": "2021-10-27T08:25:59.1787Z"
        },
        "papermill": {
          "duration": 0.041799,
          "end_time": "2021-10-29T05:21:04.472146",
          "exception": false,
          "start_time": "2021-10-29T05:21:04.430347",
          "status": "completed"
        },
        "tags": [],
        "id": "97543d92",
        "outputId": "5ef02add-1f0d-41fb-e9af-e01af3967dd1"
      },
      "outputs": [
        {
          "data": {
            "text/html": [
              "<div>\n",
              "<style scoped>\n",
              "    .dataframe tbody tr th:only-of-type {\n",
              "        vertical-align: middle;\n",
              "    }\n",
              "\n",
              "    .dataframe tbody tr th {\n",
              "        vertical-align: top;\n",
              "    }\n",
              "\n",
              "    .dataframe thead th {\n",
              "        text-align: right;\n",
              "    }\n",
              "</style>\n",
              "<table border=\"1\" class=\"dataframe\">\n",
              "  <thead>\n",
              "    <tr style=\"text-align: right;\">\n",
              "      <th></th>\n",
              "      <th>spring</th>\n",
              "      <th>summer</th>\n",
              "      <th>night</th>\n",
              "      <th>midday</th>\n",
              "      <th>passenger_count</th>\n",
              "      <th>pickup_longitude</th>\n",
              "      <th>pickup_latitude</th>\n",
              "      <th>dropoff_longitude</th>\n",
              "      <th>dropoff_latitude</th>\n",
              "      <th>2</th>\n",
              "    </tr>\n",
              "  </thead>\n",
              "  <tbody>\n",
              "    <tr>\n",
              "      <th>0</th>\n",
              "      <td>1</td>\n",
              "      <td>0</td>\n",
              "      <td>0</td>\n",
              "      <td>1</td>\n",
              "      <td>1</td>\n",
              "      <td>-73.982155</td>\n",
              "      <td>40.767937</td>\n",
              "      <td>-73.964630</td>\n",
              "      <td>40.765602</td>\n",
              "      <td>1</td>\n",
              "    </tr>\n",
              "    <tr>\n",
              "      <th>1</th>\n",
              "      <td>0</td>\n",
              "      <td>1</td>\n",
              "      <td>1</td>\n",
              "      <td>0</td>\n",
              "      <td>1</td>\n",
              "      <td>-73.980415</td>\n",
              "      <td>40.738564</td>\n",
              "      <td>-73.999481</td>\n",
              "      <td>40.731152</td>\n",
              "      <td>0</td>\n",
              "    </tr>\n",
              "    <tr>\n",
              "      <th>2</th>\n",
              "      <td>0</td>\n",
              "      <td>0</td>\n",
              "      <td>0</td>\n",
              "      <td>0</td>\n",
              "      <td>1</td>\n",
              "      <td>-73.979027</td>\n",
              "      <td>40.763939</td>\n",
              "      <td>-74.005333</td>\n",
              "      <td>40.710087</td>\n",
              "      <td>1</td>\n",
              "    </tr>\n",
              "    <tr>\n",
              "      <th>3</th>\n",
              "      <td>1</td>\n",
              "      <td>0</td>\n",
              "      <td>0</td>\n",
              "      <td>1</td>\n",
              "      <td>1</td>\n",
              "      <td>-74.010040</td>\n",
              "      <td>40.719971</td>\n",
              "      <td>-74.012268</td>\n",
              "      <td>40.706718</td>\n",
              "      <td>1</td>\n",
              "    </tr>\n",
              "    <tr>\n",
              "      <th>4</th>\n",
              "      <td>1</td>\n",
              "      <td>0</td>\n",
              "      <td>0</td>\n",
              "      <td>1</td>\n",
              "      <td>1</td>\n",
              "      <td>-73.973053</td>\n",
              "      <td>40.793209</td>\n",
              "      <td>-73.972923</td>\n",
              "      <td>40.782520</td>\n",
              "      <td>1</td>\n",
              "    </tr>\n",
              "  </tbody>\n",
              "</table>\n",
              "</div>"
            ],
            "text/plain": [
              "   spring  summer  night  midday  passenger_count  pickup_longitude  \\\n",
              "0       1       0      0       1                1        -73.982155   \n",
              "1       0       1      1       0                1        -73.980415   \n",
              "2       0       0      0       0                1        -73.979027   \n",
              "3       1       0      0       1                1        -74.010040   \n",
              "4       1       0      0       1                1        -73.973053   \n",
              "\n",
              "   pickup_latitude  dropoff_longitude  dropoff_latitude  2  \n",
              "0        40.767937         -73.964630         40.765602  1  \n",
              "1        40.738564         -73.999481         40.731152  0  \n",
              "2        40.763939         -74.005333         40.710087  1  \n",
              "3        40.719971         -74.012268         40.706718  1  \n",
              "4        40.793209         -73.972923         40.782520  1  "
            ]
          },
          "execution_count": 16,
          "metadata": {},
          "output_type": "execute_result"
        }
      ],
      "source": [
        "X.head()"
      ]
    },
    {
      "cell_type": "code",
      "execution_count": null,
      "id": "4edced90",
      "metadata": {
        "execution": {
          "iopub.execute_input": "2021-10-29T05:21:04.531935Z",
          "iopub.status.busy": "2021-10-29T05:21:04.530808Z",
          "iopub.status.idle": "2021-10-29T05:21:04.535133Z",
          "shell.execute_reply": "2021-10-29T05:21:04.534475Z",
          "shell.execute_reply.started": "2021-10-27T08:25:59.195397Z"
        },
        "papermill": {
          "duration": 0.037631,
          "end_time": "2021-10-29T05:21:04.535284",
          "exception": false,
          "start_time": "2021-10-29T05:21:04.497653",
          "status": "completed"
        },
        "tags": [],
        "id": "4edced90",
        "outputId": "0d57fe0c-72a1-4cff-e80c-7fe3f1073476"
      },
      "outputs": [
        {
          "data": {
            "text/plain": [
              "'\\ndef euclidean_dist(x1, x2, y1, y2):\\n    return ((x2 - x1) ** 2) + ((y2 - y1) ** 2)\\n\\ndists = []\\nfor i in range(len(X)):\\n    dist = euclidean_dist(X[\"pickup_longitude\"][i], X[\"dropoff_longitude\"][i], X[\"pickup_latitude\"][i], X[\"dropoff_latitude\"][i])\\n    dists.append(dist)\\n    \\ndists = np.array(dists)\\ndurations = y.to_numpy()\\n\\nnp.corrcoef(dists, durations)[0][1]\\n'"
            ]
          },
          "execution_count": 17,
          "metadata": {},
          "output_type": "execute_result"
        }
      ],
      "source": [
        "''' I thought about the how the data might relate to the target, particularly linear relationships,\n",
        "    and I realized that the pickup and drop off locations themselves probably do not have a good linear\n",
        "    relationship with the trip duration, but we can use these values to find the distance of the trip, \n",
        "    which likely has a really strong linear relationship with the duration of the trip. \n",
        "    I test this theory below.\n",
        "'''\n",
        "\n",
        "'''\n",
        "def euclidean_dist(x1, x2, y1, y2):\n",
        "    return ((x2 - x1) ** 2) + ((y2 - y1) ** 2)\n",
        "\n",
        "dists = []\n",
        "for i in range(len(X)):\n",
        "    dist = euclidean_dist(X[\"pickup_longitude\"][i], X[\"dropoff_longitude\"][i], X[\"pickup_latitude\"][i], X[\"dropoff_latitude\"][i])\n",
        "    dists.append(dist)\n",
        "    \n",
        "dists = np.array(dists)\n",
        "durations = y.to_numpy()\n",
        "\n",
        "np.corrcoef(dists, durations)[0][1]\n",
        "'''\n",
        "# There is very little correlation, my theory was incorrect "
      ]
    },
    {
      "cell_type": "code",
      "execution_count": null,
      "id": "302f4d3d",
      "metadata": {
        "execution": {
          "iopub.execute_input": "2021-10-29T05:21:04.593956Z",
          "iopub.status.busy": "2021-10-29T05:21:04.592998Z",
          "iopub.status.idle": "2021-10-29T05:21:04.599820Z",
          "shell.execute_reply": "2021-10-29T05:21:04.599253Z",
          "shell.execute_reply.started": "2021-10-27T08:25:59.210639Z"
        },
        "papermill": {
          "duration": 0.038729,
          "end_time": "2021-10-29T05:21:04.599966",
          "exception": false,
          "start_time": "2021-10-29T05:21:04.561237",
          "status": "completed"
        },
        "tags": [],
        "id": "302f4d3d",
        "outputId": "f3c852ef-b1f3-4a7e-8c52-faa0f9f6af2d"
      },
      "outputs": [
        {
          "data": {
            "text/plain": [
              "'\\ngammas = [.01, .1, 1, 10]\\ncomps = [100, 200, 300]\\n\\nfor i in range(len(gammas)):\\n    for j in range(len(comps)):\\n        feature_map_nystroem = Nystroem(gamma=gammas[i],\\n                                random_state=1,\\n                                n_components=comps[j])\\n        data_transformed = feature_map_nystroem.fit_transform(X)\\n        regr = make_pipeline(StandardScaler(), LinearSVR(random_state=0, tol=1e-5))\\n        score = cross_val_score(regr, data_transformed, y, cv=3, scoring = \\'r2\\').mean()\\n        \\n        print(\"Gamma = \", gammas[i], \" |N Components = \", comps[j], \" |Score = \", score)\\n'"
            ]
          },
          "execution_count": 18,
          "metadata": {},
          "output_type": "execute_result"
        }
      ],
      "source": [
        "from sklearn.svm import LinearSVR\n",
        "from sklearn.model_selection import cross_val_score\n",
        "from sklearn.pipeline import make_pipeline\n",
        "from sklearn.kernel_approximation import Nystroem\n",
        "\n",
        "'''\n",
        "gammas = [.01, .1, 1, 10]\n",
        "comps = [100, 200, 300]\n",
        "\n",
        "for i in range(len(gammas)):\n",
        "    for j in range(len(comps)):\n",
        "        feature_map_nystroem = Nystroem(gamma=gammas[i],\n",
        "                                random_state=1,\n",
        "                                n_components=comps[j])\n",
        "        data_transformed = feature_map_nystroem.fit_transform(X)\n",
        "        regr = make_pipeline(StandardScaler(), LinearSVR(random_state=0, tol=1e-5))\n",
        "        score = cross_val_score(regr, data_transformed, y, cv=3, scoring = 'r2').mean()\n",
        "        \n",
        "        print(\"Gamma = \", gammas[i], \" |N Components = \", comps[j], \" |Score = \", score)\n",
        "'''"
      ]
    },
    {
      "cell_type": "code",
      "execution_count": null,
      "id": "20586f4f",
      "metadata": {
        "execution": {
          "iopub.execute_input": "2021-10-29T05:21:04.661579Z",
          "iopub.status.busy": "2021-10-29T05:21:04.657708Z",
          "iopub.status.idle": "2021-10-29T05:21:04.667341Z",
          "shell.execute_reply": "2021-10-29T05:21:04.667842Z",
          "shell.execute_reply.started": "2021-10-27T08:25:59.230258Z"
        },
        "papermill": {
          "duration": 0.040812,
          "end_time": "2021-10-29T05:21:04.668018",
          "exception": false,
          "start_time": "2021-10-29T05:21:04.627206",
          "status": "completed"
        },
        "tags": [],
        "id": "20586f4f",
        "outputId": "fc4af74b-7677-4fdd-f7bf-e9c96a3dcb75"
      },
      "outputs": [
        {
          "data": {
            "text/plain": [
              "'\\nforest = RandomForestRegressor(max_depth=3, random_state=0)\\nkernel = KernelRidge()\\nelastic = ElasticNet(random_state=0)\\nridge = Ridge(random_state=0)\\nlasso = Lasso(random_state=0)\\nneigh = KNeighborsRegressor(n_neighbors=2)\\n\\nmodels = [forest, neigh, elastic, ridge, lasso]\\nmodel_names = [\"forest\", \"knn\", \"elastic\", \"ridge\", \"lasso\"]\\n\\nfor model in range(len(models)):\\n    regr = Pipeline([(\\'scaler\\', StandardScaler()), (model_names[model], models[model])])\\n    score = cross_val_score(regr, X, y, cv=3, scoring = \\'r2\\').mean()\\n    print(model_names[model], \" score: \", score)    \\n'"
            ]
          },
          "execution_count": 19,
          "metadata": {},
          "output_type": "execute_result"
        }
      ],
      "source": [
        "# Use random forest regressor, ridge regression, lasso regression, support vector regression, XGBoost Regression, and Elastic net\n",
        "# Find the best performing model, then fine tune\n",
        "from sklearn.linear_model import Ridge\n",
        "from sklearn.linear_model import Lasso\n",
        "from sklearn.svm import SVR\n",
        "from sklearn.linear_model import ElasticNet\n",
        "from sklearn.kernel_ridge import KernelRidge\n",
        "from sklearn.neighbors import KNeighborsRegressor\n",
        "from sklearn.model_selection import cross_val_score\n",
        "\n",
        "'''\n",
        "forest = RandomForestRegressor(max_depth=3, random_state=0)\n",
        "kernel = KernelRidge()\n",
        "elastic = ElasticNet(random_state=0)\n",
        "ridge = Ridge(random_state=0)\n",
        "lasso = Lasso(random_state=0)\n",
        "neigh = KNeighborsRegressor(n_neighbors=2)\n",
        "\n",
        "models = [forest, neigh, elastic, ridge, lasso]\n",
        "model_names = [\"forest\", \"knn\", \"elastic\", \"ridge\", \"lasso\"]\n",
        "\n",
        "for model in range(len(models)):\n",
        "    regr = Pipeline([('scaler', StandardScaler()), (model_names[model], models[model])])\n",
        "    score = cross_val_score(regr, X, y, cv=3, scoring = 'r2').mean()\n",
        "    print(model_names[model], \" score: \", score)    \n",
        "'''"
      ]
    },
    {
      "cell_type": "code",
      "execution_count": null,
      "id": "ea821589",
      "metadata": {
        "execution": {
          "iopub.execute_input": "2021-10-29T05:21:04.725690Z",
          "iopub.status.busy": "2021-10-29T05:21:04.724981Z",
          "iopub.status.idle": "2021-10-29T05:21:04.729709Z",
          "shell.execute_reply": "2021-10-29T05:21:04.730311Z",
          "shell.execute_reply.started": "2021-10-27T08:25:59.243863Z"
        },
        "papermill": {
          "duration": 0.03556,
          "end_time": "2021-10-29T05:21:04.730491",
          "exception": false,
          "start_time": "2021-10-29T05:21:04.694931",
          "status": "completed"
        },
        "tags": [],
        "id": "ea821589",
        "outputId": "15a70cf4-fdca-4032-8a82-a9f55dcc1151"
      },
      "outputs": [
        {
          "data": {
            "text/plain": [
              "'\\nX_ = X[:20000]\\ny_ = y[:20000]\\n\\nkernels = [\\'rbf\\', \\'poly\\', \\'sigmoid\\']\\ncs = [.1, 1, 10]\\nepsilons = [.001, .01, .1]\\n\\nfor i in range(3):\\n    for j in range(3):\\n        for k in range(3):\\n            svr = SVR(kernel = kernels[i], C = cs[j], epsilon = epsilons[k])\\n            regr = Pipeline([(\\'scaler\\', StandardScaler()), (\\'svr\\', svr)])\\n            score = cross_val_score(regr, X_, y_, cv=3, scoring=\\'r2\\').mean()\\n            print(kernels[i], \" \", cs[j], \" \", epsilons[k], \": \", score)\\n'"
            ]
          },
          "execution_count": 20,
          "metadata": {},
          "output_type": "execute_result"
        }
      ],
      "source": [
        "'''\n",
        "X_ = X[:20000]\n",
        "y_ = y[:20000]\n",
        "\n",
        "kernels = ['rbf', 'poly', 'sigmoid']\n",
        "cs = [.1, 1, 10]\n",
        "epsilons = [.001, .01, .1]\n",
        "\n",
        "for i in range(3):\n",
        "    for j in range(3):\n",
        "        for k in range(3):\n",
        "            svr = SVR(kernel = kernels[i], C = cs[j], epsilon = epsilons[k])\n",
        "            regr = Pipeline([('scaler', StandardScaler()), ('svr', svr)])\n",
        "            score = cross_val_score(regr, X_, y_, cv=3, scoring='r2').mean()\n",
        "            print(kernels[i], \" \", cs[j], \" \", epsilons[k], \": \", score)\n",
        "'''"
      ]
    },
    {
      "cell_type": "code",
      "execution_count": null,
      "id": "c80d7948",
      "metadata": {
        "execution": {
          "iopub.execute_input": "2021-10-29T05:21:04.787821Z",
          "iopub.status.busy": "2021-10-29T05:21:04.787113Z",
          "iopub.status.idle": "2021-10-29T05:21:04.792439Z",
          "shell.execute_reply": "2021-10-29T05:21:04.792983Z",
          "shell.execute_reply.started": "2021-10-27T08:25:59.258915Z"
        },
        "papermill": {
          "duration": 0.035806,
          "end_time": "2021-10-29T05:21:04.793173",
          "exception": false,
          "start_time": "2021-10-29T05:21:04.757367",
          "status": "completed"
        },
        "tags": [],
        "id": "c80d7948",
        "outputId": "c3daaefc-a738-4688-aa3f-fc76800e4119"
      },
      "outputs": [
        {
          "data": {
            "text/plain": [
              "'\\ncs = [5, 10, 25, 50, 75, 100]\\n\\nfor i in range(6):\\n    svr = SVR(kernel = \"rbf\", C = cs[i], epsilon = .001)\\n    regr = Pipeline([(\\'scaler\\', StandardScaler()), (\\'svr\\', svr)])\\n    score = cross_val_score(regr, X_, y_, cv=3, scoring=\\'r2\\').mean()\\n    print(cs[i], \": \", score)\\n'"
            ]
          },
          "execution_count": 21,
          "metadata": {},
          "output_type": "execute_result"
        }
      ],
      "source": [
        "'''\n",
        "cs = [5, 10, 25, 50, 75, 100]\n",
        "\n",
        "for i in range(6):\n",
        "    svr = SVR(kernel = \"rbf\", C = cs[i], epsilon = .001)\n",
        "    regr = Pipeline([('scaler', StandardScaler()), ('svr', svr)])\n",
        "    score = cross_val_score(regr, X_, y_, cv=3, scoring='r2').mean()\n",
        "    print(cs[i], \": \", score)\n",
        "'''"
      ]
    },
    {
      "cell_type": "code",
      "execution_count": null,
      "id": "efcfd71e",
      "metadata": {
        "execution": {
          "iopub.execute_input": "2021-10-29T05:21:04.914578Z",
          "iopub.status.busy": "2021-10-29T05:21:04.913814Z",
          "iopub.status.idle": "2021-10-29T05:21:04.916741Z",
          "shell.execute_reply": "2021-10-29T05:21:04.917322Z",
          "shell.execute_reply.started": "2021-10-27T08:25:59.271512Z"
        },
        "papermill": {
          "duration": 0.096227,
          "end_time": "2021-10-29T05:21:04.917501",
          "exception": false,
          "start_time": "2021-10-29T05:21:04.821274",
          "status": "completed"
        },
        "tags": [],
        "id": "efcfd71e",
        "outputId": "5df65819-f902-4e17-95d5-e3bb951e5b08"
      },
      "outputs": [
        {
          "data": {
            "text/plain": [
              "'\\nX_y = pd.concat([X, y], axis=1)\\nX_y = X_y.sample(400000)\\nX_ = X_y.drop([\"trip_duration\"], axis=1)\\ny_ = X_y[\"trip_duration\"]\\n\\nsvr = SVR(kernel = \"rbf\", C = 100, epsilon= .001)\\nregr = Pipeline([(\\'scaler\\', StandardScaler()), (\\'svr\\', svr)])\\ncross_val_score(regr, X_, y_, cv=2, scoring=\\'r2\\').mean()\\n'"
            ]
          },
          "execution_count": 22,
          "metadata": {},
          "output_type": "execute_result"
        }
      ],
      "source": [
        "'''\n",
        "X_y = pd.concat([X, y], axis=1)\n",
        "X_y = X_y.sample(400000)\n",
        "X_ = X_y.drop([\"trip_duration\"], axis=1)\n",
        "y_ = X_y[\"trip_duration\"]\n",
        "\n",
        "svr = SVR(kernel = \"rbf\", C = 100, epsilon= .001)\n",
        "regr = Pipeline([('scaler', StandardScaler()), ('svr', svr)])\n",
        "cross_val_score(regr, X_, y_, cv=2, scoring='r2').mean()\n",
        "'''\n",
        "# .019"
      ]
    },
    {
      "cell_type": "code",
      "execution_count": null,
      "id": "0d7cd77f",
      "metadata": {
        "execution": {
          "iopub.execute_input": "2021-10-29T05:21:04.981347Z",
          "iopub.status.busy": "2021-10-29T05:21:04.977682Z",
          "iopub.status.idle": "2021-10-29T05:21:04.984235Z",
          "shell.execute_reply": "2021-10-29T05:21:04.984737Z",
          "shell.execute_reply.started": "2021-10-27T08:25:59.283465Z"
        },
        "papermill": {
          "duration": 0.038257,
          "end_time": "2021-10-29T05:21:04.984903",
          "exception": false,
          "start_time": "2021-10-29T05:21:04.946646",
          "status": "completed"
        },
        "tags": [],
        "id": "0d7cd77f",
        "outputId": "c1a97565-4c78-4a95-dc8e-c3a82040287b"
      },
      "outputs": [
        {
          "data": {
            "text/plain": [
              "'\\nX_y = pd.concat([X, y], axis=1)\\nsvr1 = SVR()\\nsvr2 = SVR()\\nsvr3 = SVR()\\nsvr4 = SVR()\\nsvr5 = SVR()\\nsvr6 = SVR()\\nsvr7 = SVR()\\nsvr8 = SVR()\\nsvr9 = SVR()\\nsvr10 = SVR() \\n\\nsvrs = [svr1, svr2, svr3, svr4, svr5, svr6, svr7, svr8, svr9, svr10]\\n\\nfor i in range(10):\\n    curr_data = X_y.sample(40000)\\n    X_ = curr_data.drop([\"trip_duration\"], axis=1)\\n    y_ = curr_data[\"trip_duration\"]\\n    regr = Pipeline([(\\'scaler\\', StandardScaler()), (\\'svr\\', svrs[i])])\\n    regr.fit(X_, y_)\\n    score = cross_val_score(regr, X_, y_, cv=3, scoring=\\'r2\\').mean()\\n    print(\"model \", i, \" score: \", score)\\n'"
            ]
          },
          "execution_count": 23,
          "metadata": {},
          "output_type": "execute_result"
        }
      ],
      "source": [
        "from sklearn.svm import SVR\n",
        "from sklearn.model_selection import cross_val_score\n",
        "\n",
        "'''\n",
        "X_y = pd.concat([X, y], axis=1)\n",
        "svr1 = SVR()\n",
        "svr2 = SVR()\n",
        "svr3 = SVR()\n",
        "svr4 = SVR()\n",
        "svr5 = SVR()\n",
        "svr6 = SVR()\n",
        "svr7 = SVR()\n",
        "svr8 = SVR()\n",
        "svr9 = SVR()\n",
        "svr10 = SVR() \n",
        "\n",
        "svrs = [svr1, svr2, svr3, svr4, svr5, svr6, svr7, svr8, svr9, svr10]\n",
        "\n",
        "for i in range(10):\n",
        "    curr_data = X_y.sample(40000)\n",
        "    X_ = curr_data.drop([\"trip_duration\"], axis=1)\n",
        "    y_ = curr_data[\"trip_duration\"]\n",
        "    regr = Pipeline([('scaler', StandardScaler()), ('svr', svrs[i])])\n",
        "    regr.fit(X_, y_)\n",
        "    score = cross_val_score(regr, X_, y_, cv=3, scoring='r2').mean()\n",
        "    print(\"model \", i, \" score: \", score)\n",
        "'''"
      ]
    },
    {
      "cell_type": "code",
      "execution_count": null,
      "id": "8b4c4f79",
      "metadata": {
        "execution": {
          "iopub.execute_input": "2021-10-29T05:21:05.047052Z",
          "iopub.status.busy": "2021-10-29T05:21:05.046373Z",
          "iopub.status.idle": "2021-10-29T05:21:05.049471Z",
          "shell.execute_reply": "2021-10-29T05:21:05.049984Z",
          "shell.execute_reply.started": "2021-10-27T08:25:59.301009Z"
        },
        "papermill": {
          "duration": 0.036564,
          "end_time": "2021-10-29T05:21:05.050181",
          "exception": false,
          "start_time": "2021-10-29T05:21:05.013617",
          "status": "completed"
        },
        "tags": [],
        "id": "8b4c4f79",
        "outputId": "f24694dd-8237-47a6-94f8-3659de420640"
      },
      "outputs": [
        {
          "data": {
            "text/plain": [
              "\"\\nfrom sklearn.ensemble import VotingRegressor\\ner = VotingRegressor([('svr1', svr1), ('svr2', svr2), ('svr3' svr3), ('svr4' svr4), ('svr5', svr5), ('svr6', svr6), \\n                                                      ('svr7', svr7), ('svr8', svr8), ('svr9', svr9), ('svr10', svr10)])\\nscore = cross_val_score(regr, X)\\n\""
            ]
          },
          "execution_count": 24,
          "metadata": {},
          "output_type": "execute_result"
        }
      ],
      "source": [
        "'''\n",
        "from sklearn.ensemble import VotingRegressor\n",
        "er = VotingRegressor([('svr1', svr1), ('svr2', svr2), ('svr3' svr3), ('svr4' svr4), ('svr5', svr5), ('svr6', svr6), \n",
        "                                                      ('svr7', svr7), ('svr8', svr8), ('svr9', svr9), ('svr10', svr10)])\n",
        "score = cross_val_score(regr, X)\n",
        "'''"
      ]
    },
    {
      "cell_type": "code",
      "execution_count": null,
      "id": "cb470ce1",
      "metadata": {
        "execution": {
          "iopub.execute_input": "2021-10-29T05:21:05.110232Z",
          "iopub.status.busy": "2021-10-29T05:21:05.109561Z",
          "iopub.status.idle": "2021-10-29T05:21:05.112519Z",
          "shell.execute_reply": "2021-10-29T05:21:05.113052Z",
          "shell.execute_reply.started": "2021-10-27T08:25:59.312575Z"
        },
        "papermill": {
          "duration": 0.034803,
          "end_time": "2021-10-29T05:21:05.113235",
          "exception": false,
          "start_time": "2021-10-29T05:21:05.078432",
          "status": "completed"
        },
        "tags": [],
        "id": "cb470ce1"
      },
      "outputs": [],
      "source": [
        "#from sklearn.ensemble import BaggingRegressor\n",
        "#bag = BaggingRegressor(base_estimator=SVR(), n_estimators=20, random_state=0, max_samples=.025, verbose=1, n_jobs=4)\n",
        "#regr = Pipeline([('scaler', StandardScaler()), ('svr', bag)])\n",
        "#score = cross_val_score(regr, X, y, cv=2, scoring='r2').mean()"
      ]
    },
    {
      "cell_type": "code",
      "execution_count": null,
      "id": "07e9d9ae",
      "metadata": {
        "execution": {
          "iopub.execute_input": "2021-10-29T05:21:05.173259Z",
          "iopub.status.busy": "2021-10-29T05:21:05.172559Z",
          "iopub.status.idle": "2021-10-29T05:30:55.537635Z",
          "shell.execute_reply": "2021-10-29T05:30:55.536886Z",
          "shell.execute_reply.started": "2021-10-27T08:25:59.324093Z"
        },
        "papermill": {
          "duration": 590.396241,
          "end_time": "2021-10-29T05:30:55.537793",
          "exception": false,
          "start_time": "2021-10-29T05:21:05.141552",
          "status": "completed"
        },
        "tags": [],
        "id": "07e9d9ae"
      },
      "outputs": [],
      "source": [
        "from sklearn.svm import SVR\n",
        "from sklearn.pipeline import Pipeline\n",
        "from sklearn.preprocessing import StandardScaler\n",
        "\n",
        "svrs = []\n",
        "X_y = pd.concat([X, y], axis=1)\n",
        "for i in range(20):\n",
        "    X_y_ = X_y.sample(20000)\n",
        "    X_ = X_y_.drop(['trip_duration'], axis=1)\n",
        "    y_ = X_y_['trip_duration']\n",
        "    svr = SVR(kernel = \"rbf\", C = 100, epsilon= .001)\n",
        "    regr = Pipeline([('scaler', StandardScaler()), ('svr', svr)])\n",
        "    regr.fit(X_, y_)\n",
        "    svrs.append(regr)"
      ]
    },
    {
      "cell_type": "code",
      "execution_count": null,
      "id": "4b593d19",
      "metadata": {
        "execution": {
          "iopub.execute_input": "2021-10-29T05:30:55.605206Z",
          "iopub.status.busy": "2021-10-29T05:30:55.604489Z",
          "iopub.status.idle": "2021-10-29T09:51:41.110810Z",
          "shell.execute_reply": "2021-10-29T09:51:41.107456Z",
          "shell.execute_reply.started": "2021-10-27T08:35:35.758148Z"
        },
        "papermill": {
          "duration": 15645.545077,
          "end_time": "2021-10-29T09:51:41.112199",
          "exception": false,
          "start_time": "2021-10-29T05:30:55.567122",
          "status": "completed"
        },
        "tags": [],
        "id": "4b593d19"
      },
      "outputs": [],
      "source": [
        "submission = pd.read_csv(\"../input/nyc-taxi-trip-duration/sample_submission.zip\", compression=\"zip\")\n",
        "\n",
        "for i in range(len(submission)):\n",
        "    data = test_df.iloc[i, :]\n",
        "    pred = 0\n",
        "    for j in range(len(svrs)):\n",
        "        pred += svrs[j].predict(data.to_numpy().reshape(1, -1))\n",
        "    submission.iloc[i, 1] = pred / 20\n",
        "    \n",
        "submission = submission.set_index('id')\n",
        "submission.to_csv(\"sub.csv\")"
      ]
    }
  ],
  "metadata": {
    "kernelspec": {
      "display_name": "Python 3",
      "language": "python",
      "name": "python3"
    },
    "language_info": {
      "codemirror_mode": {
        "name": "ipython",
        "version": 3
      },
      "file_extension": ".py",
      "mimetype": "text/x-python",
      "name": "python",
      "nbconvert_exporter": "python",
      "pygments_lexer": "ipython3",
      "version": "3.7.10"
    },
    "papermill": {
      "default_parameters": {},
      "duration": 16612.874081,
      "end_time": "2021-10-29T09:51:43.831256",
      "environment_variables": {},
      "exception": null,
      "input_path": "__notebook__.ipynb",
      "output_path": "__notebook__.ipynb",
      "parameters": {},
      "start_time": "2021-10-29T05:14:50.957175",
      "version": "2.3.3"
    },
    "colab": {
      "name": "regression.ipynb",
      "provenance": [],
      "include_colab_link": true
    }
  },
  "nbformat": 4,
  "nbformat_minor": 5
}